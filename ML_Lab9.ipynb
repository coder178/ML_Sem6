{
  "nbformat": 4,
  "nbformat_minor": 0,
  "metadata": {
    "colab": {
      "provenance": [],
      "authorship_tag": "ABX9TyMUndqnlmxATFjid+HN7wcE",
      "include_colab_link": true
    },
    "kernelspec": {
      "name": "python3",
      "display_name": "Python 3"
    },
    "language_info": {
      "name": "python"
    }
  },
  "cells": [
    {
      "cell_type": "markdown",
      "metadata": {
        "id": "view-in-github",
        "colab_type": "text"
      },
      "source": [
        "<a href=\"https://colab.research.google.com/github/drashti178/CE091_ML_Labs/blob/main/ML_Lab9.ipynb\" target=\"_parent\"><img src=\"https://colab.research.google.com/assets/colab-badge.svg\" alt=\"Open In Colab\"/></a>"
      ]
    },
    {
      "cell_type": "code",
      "execution_count": 2,
      "metadata": {
        "id": "ZoUdS3theRgL"
      },
      "outputs": [],
      "source": [
        "from sklearn.datasets import make_blobs\n",
        "X, _ = make_blobs(n_samples=100, centers=3, n_features=2,cluster_std=0.2, random_state=4)"
      ]
    },
    {
      "cell_type": "code",
      "source": [
        "# Scatter plot of the data points\n",
        "import matplotlib.pyplot as plt\n",
        "\n",
        "plt.scatter(X[:, 0], X[:, -1],s=5)\n",
        "plt.xlabel('X Coordinates')\n",
        "plt.ylabel('Y Coordinates')\n",
        "plt.show()"
      ],
      "metadata": {
        "colab": {
          "base_uri": "https://localhost:8080/",
          "height": 279
        },
        "id": "_WCgFi7Uennm",
        "outputId": "b724146b-3fc1-460c-eb12-1c7da506929f"
      },
      "execution_count": 3,
      "outputs": [
        {
          "output_type": "display_data",
          "data": {
            "text/plain": [
              "<Figure size 432x288 with 1 Axes>"
            ],
            "image/png": "[encoded data removed]"
          },
          "metadata": {
            "needs_background": "light"
          }
        }
      ]
    },
    {
      "cell_type": "code",
      "source": [
        " # Using scikit-learn to perform K-Means clustering\n",
        "from sklearn.cluster import KMeans\n",
        "\n",
        "# Specify the number of clusters (3) and fit the data X\n",
        "kmeans = KMeans(n_clusters=3, random_state=4).fit(X)"
      ],
      "metadata": {
        "id": "OoV37lpte1RG",
        "colab": {
          "base_uri": "https://localhost:8080/"
        },
        "outputId": "beb50ddc-5b7b-487e-91e0-bbc2fe13cdfc"
      },
      "execution_count": 4,
      "outputs": [
        {
          "output_type": "stream",
          "name": "stderr",
          "text": [
            "/usr/local/lib/python3.9/dist-packages/sklearn/cluster/_kmeans.py:870: FutureWarning: The default value of `n_init` will change from 10 to 'auto' in 1.4. Set the value of `n_init` explicitly to suppress the warning\n",
            "  warnings.warn(\n"
          ]
        }
      ]
    },
    {
      "cell_type": "code",
      "source": [
        "# Get the cluster centroids\n",
        "kmeans.cluster_centers_"
      ],
      "metadata": {
        "colab": {
          "base_uri": "https://localhost:8080/"
        },
        "id": "vOArbpEUe6l1",
        "outputId": "648af527-db89-44a2-eb51-0cfd1bb3967f"
      },
      "execution_count": 5,
      "outputs": [
        {
          "output_type": "execute_result",
          "data": {
            "text/plain": [
              "array([[ 9.4762884 ,  4.29114069],\n",
              "       [ 3.98450259, -5.71326721],\n",
              "       [ 9.37303505,  0.94682228]])"
            ]
          },
          "metadata": {},
          "execution_count": 5
        }
      ]
    },
    {
      "cell_type": "code",
      "source": [
        "# Get the cluster labels\n",
        "kmeans.labels_"
      ],
      "metadata": {
        "colab": {
          "base_uri": "https://localhost:8080/"
        },
        "id": "5OGApWpLe8cv",
        "outputId": "baa3fbdc-e2d1-4b4c-a966-6225aaaf4585"
      },
      "execution_count": 6,
      "outputs": [
        {
          "output_type": "execute_result",
          "data": {
            "text/plain": [
              "array([0, 2, 0, 0, 2, 2, 1, 2, 2, 2, 0, 0, 0, 2, 2, 0, 2, 2, 2, 2, 0, 1,\n",
              "       2, 1, 2, 0, 0, 2, 2, 1, 0, 1, 0, 0, 1, 2, 0, 1, 2, 0, 1, 2, 1, 0,\n",
              "       1, 2, 0, 0, 1, 2, 0, 2, 1, 2, 1, 0, 1, 0, 0, 0, 1, 1, 2, 0, 1, 0,\n",
              "       1, 1, 0, 1, 2, 0, 2, 1, 0, 0, 0, 2, 0, 2, 2, 1, 1, 2, 1, 1, 0, 0,\n",
              "       2, 1, 2, 1, 1, 1, 1, 1, 2, 1, 1, 2], dtype=int32)"
            ]
          },
          "metadata": {},
          "execution_count": 6
        }
      ]
    },
    {
      "cell_type": "code",
      "source": [
        "# Plotting the cluster centers and the data points on a 2D plane\n",
        "plt.scatter(X[:, 0], X[:, -1])\n",
        "plt.scatter(kmeans.cluster_centers_[:, 0], kmeans.cluster_centers_[:, 1],c='red', marker='x')\n",
        "plt.title('Data points and cluster centroids')\n",
        "plt.show()"
      ],
      "metadata": {
        "colab": {
          "base_uri": "https://localhost:8080/",
          "height": 281
        },
        "id": "L-cvX-eCfBT3",
        "outputId": "44326b79-dd75-4037-cef9-30f391f9a94e"
      },
      "execution_count": 7,
      "outputs": [
        {
          "output_type": "display_data",
          "data": {
            "text/plain": [
              "<Figure size 432x288 with 1 Axes>"
            ],
            "image/png": "[encoded data removed]"
          },
          "metadata": {
            "needs_background": "light"
          }
        }
      ]
    },
    {
      "cell_type": "code",
      "source": [
        "# Calculate silhouette_score\n",
        "#means nearest-cluster distance for each sample\n",
        "from sklearn.metrics import silhouette_score\n",
        "print(silhouette_score(X, kmeans.labels_))"
      ],
      "metadata": {
        "colab": {
          "base_uri": "https://localhost:8080/"
        },
        "id": "qx0Ut15ffBd-",
        "outputId": "42603dfb-b025-40a7-b385-9c10fb8d90c3"
      },
      "execution_count": 8,
      "outputs": [
        {
          "output_type": "stream",
          "name": "stdout",
          "text": [
            "0.9173364619914911\n"
          ]
        }
      ]
    },
    {
      "cell_type": "code",
      "source": [
        "# Import the KElbowVisualizer method\n",
        "from yellowbrick.cluster import KElbowVisualizer\n",
        "# Instantiate a scikit-learn K-Means model\n",
        "model = KMeans(random_state=4)\n",
        "# Instantiate the KElbowVisualizer with the number of clusters and the metric\n",
        "visualizer = KElbowVisualizer(model, k=(2,6), metric='silhouette',timings=False)\n",
        "# Fit the data and visualize\n",
        "visualizer.fit(X)\n",
        "visualizer.poof()"
      ],
      "metadata": {
        "colab": {
          "base_uri": "https://localhost:8080/",
          "height": 569
        },
        "id": "fREpREt5fLzO",
        "outputId": "8c315d21-755a-417e-8489-d6c9fcc0b7db"
      },
      "execution_count": 9,
      "outputs": [
        {
          "output_type": "stream",
          "name": "stderr",
          "text": [
            "/usr/local/lib/python3.9/dist-packages/sklearn/cluster/_kmeans.py:870: FutureWarning: The default value of `n_init` will change from 10 to 'auto' in 1.4. Set the value of `n_init` explicitly to suppress the warning\n",
            "  warnings.warn(\n",
            "/usr/local/lib/python3.9/dist-packages/sklearn/cluster/_kmeans.py:870: FutureWarning: The default value of `n_init` will change from 10 to 'auto' in 1.4. Set the value of `n_init` explicitly to suppress the warning\n",
            "  warnings.warn(\n",
            "/usr/local/lib/python3.9/dist-packages/sklearn/cluster/_kmeans.py:870: FutureWarning: The default value of `n_init` will change from 10 to 'auto' in 1.4. Set the value of `n_init` explicitly to suppress the warning\n",
            "  warnings.warn(\n",
            "/usr/local/lib/python3.9/dist-packages/sklearn/cluster/_kmeans.py:870: FutureWarning: The default value of `n_init` will change from 10 to 'auto' in 1.4. Set the value of `n_init` explicitly to suppress the warning\n",
            "  warnings.warn(\n"
          ]
        },
        {
          "output_type": "display_data",
          "data": {
            "text/plain": [
              "<Figure size 576x396 with 1 Axes>"
            ],
            "image/png": "[encoded data removed]"
          },
          "metadata": {}
        },
        {
          "output_type": "execute_result",
          "data": {
            "text/plain": [
              "<Axes: title={'center': 'Silhouette Score Elbow for KMeans Clustering'}, xlabel='k', ylabel='silhouette score'>"
            ]
          },
          "metadata": {},
          "execution_count": 9
        }
      ]
    },
    {
      "cell_type": "code",
      "source": [
        "import matplotlib.pyplot as plt\n",
        "import numpy as np\n",
        "from sklearn.cluster import KMeans\n",
        "#x = np.array([5,7,8,7,2,17,2,9,4,11,12,9,6])\n",
        "X1 = np.array([[2,2],[3,4],[6,7],[5,5],[3,3],[12,13]])\n",
        "#X1.shape()\n",
        "X2 = np.array([2,3,4])\n",
        "plt.scatter(X1[:,0], X1[:,1])\n",
        "centroid = np.array([[2,2],[3,4],[6,7]])\n",
        "kmeans = KMeans(n_clusters=3, init=centroid).fit(X1)\n",
        "kmeans.cluster_centers_\n",
        "kmeans.labels_\n",
        "#print(\"Number of iterations \" , kmeans.n_iter_)\n",
        "kmeans.predict([[8,8]])"
      ],
      "metadata": {
        "colab": {
          "base_uri": "https://localhost:8080/",
          "height": 454
        },
        "id": "sW1aQTU9SkzV",
        "outputId": "7e49aad8-53cf-43c5-d370-bff5fc5500bd"
      },
      "execution_count": 10,
      "outputs": [
        {
          "output_type": "stream",
          "name": "stderr",
          "text": [
            "/usr/local/lib/python3.9/dist-packages/sklearn/cluster/_kmeans.py:870: FutureWarning: The default value of `n_init` will change from 10 to 'auto' in 1.4. Set the value of `n_init` explicitly to suppress the warning\n",
            "  warnings.warn(\n",
            "/usr/local/lib/python3.9/dist-packages/sklearn/cluster/_kmeans.py:1362: RuntimeWarning: Explicit initial center position passed: performing only one init in KMeans instead of n_init=10.\n",
            "  super()._check_params_vs_input(X, default_n_init=10)\n"
          ]
        },
        {
          "output_type": "execute_result",
          "data": {
            "text/plain": [
              "array([1], dtype=int32)"
            ]
          },
          "metadata": {},
          "execution_count": 10
        },
        {
          "output_type": "display_data",
          "data": {
            "text/plain": [
              "<Figure size 576x396 with 1 Axes>"
            ],
            "image/png": "[encoded data removed]"
          },
          "metadata": {}
        }
      ]
    },
    {
      "cell_type": "markdown",
      "source": [
        "Hand Written Digit Recognition"
      ],
      "metadata": {
        "id": "m_1TQLKffoym"
      }
    },
    {
      "cell_type": "code",
      "source": [
        "import numpy as np # linear algebra\n",
        "import pandas as pd # data processing, CSV file I/O (e.g. pd.read_csv)\n",
        "from sklearn.cluster import KMeans\n",
        "from sklearn.datasets import load_digits\n",
        "#digits dataset from scikit learn consists of 8x8 pixel images of digits\n",
        "#Data plotting and visualization libraries\n",
        "import matplotlib.pyplot as plt\n",
        "import seaborn as sns\n",
        "from scipy.stats import mode\n",
        "from sklearn.metrics import accuracy_score, confusion_matrix"
      ],
      "metadata": {
        "id": "cPCAvVTlfnpF"
      },
      "execution_count": 11,
      "outputs": []
    },
    {
      "cell_type": "code",
      "source": [
        "digits = load_digits() #load the dataset in digits"
      ],
      "metadata": {
        "id": "typB-lm7fuWW"
      },
      "execution_count": 12,
      "outputs": []
    },
    {
      "cell_type": "code",
      "source": [
        "digits.data.shape"
      ],
      "metadata": {
        "colab": {
          "base_uri": "https://localhost:8080/"
        },
        "id": "NmogYCa_WUvW",
        "outputId": "9612a646-587f-4833-e6e9-433d6ba4773f"
      },
      "execution_count": 15,
      "outputs": [
        {
          "output_type": "execute_result",
          "data": {
            "text/plain": [
              "(1797, 64)"
            ]
          },
          "metadata": {},
          "execution_count": 15
        }
      ]
    },
    {
      "cell_type": "code",
      "source": [
        "digits.keys() #Dataset loaded is a dictionary\n",
        "# data : flattened arrays/tensors used for clustering\n",
        "# target : label associated with flattened array\n",
        "#print(digits.target)"
      ],
      "metadata": {
        "colab": {
          "base_uri": "https://localhost:8080/"
        },
        "id": "6hlhQH2Qfwkl",
        "outputId": "23b350d9-78a6-4252-cfab-3e944b53ae3d"
      },
      "execution_count": 13,
      "outputs": [
        {
          "output_type": "execute_result",
          "data": {
            "text/plain": [
              "dict_keys(['data', 'target', 'frame', 'feature_names', 'target_names', 'images', 'DESCR'])"
            ]
          },
          "metadata": {},
          "execution_count": 13
        }
      ]
    },
    {
      "cell_type": "code",
      "source": [
        "digits.data[0:3] #flattened data for 3 images of the dataset"
      ],
      "metadata": {
        "colab": {
          "base_uri": "https://localhost:8080/"
        },
        "id": "VFmZk0dXfzzF",
        "outputId": "86ca4325-097f-4ff9-8823-a8db0e50ee3d"
      },
      "execution_count": 14,
      "outputs": [
        {
          "output_type": "execute_result",
          "data": {
            "text/plain": [
              "array([[ 0.,  0.,  5., 13.,  9.,  1.,  0.,  0.,  0.,  0., 13., 15., 10.,\n",
              "        15.,  5.,  0.,  0.,  3., 15.,  2.,  0., 11.,  8.,  0.,  0.,  4.,\n",
              "        12.,  0.,  0.,  8.,  8.,  0.,  0.,  5.,  8.,  0.,  0.,  9.,  8.,\n",
              "         0.,  0.,  4., 11.,  0.,  1., 12.,  7.,  0.,  0.,  2., 14.,  5.,\n",
              "        10., 12.,  0.,  0.,  0.,  0.,  6., 13., 10.,  0.,  0.,  0.],\n",
              "       [ 0.,  0.,  0., 12., 13.,  5.,  0.,  0.,  0.,  0.,  0., 11., 16.,\n",
              "         9.,  0.,  0.,  0.,  0.,  3., 15., 16.,  6.,  0.,  0.,  0.,  7.,\n",
              "        15., 16., 16.,  2.,  0.,  0.,  0.,  0.,  1., 16., 16.,  3.,  0.,\n",
              "         0.,  0.,  0.,  1., 16., 16.,  6.,  0.,  0.,  0.,  0.,  1., 16.,\n",
              "        16.,  6.,  0.,  0.,  0.,  0.,  0., 11., 16., 10.,  0.,  0.],\n",
              "       [ 0.,  0.,  0.,  4., 15., 12.,  0.,  0.,  0.,  0.,  3., 16., 15.,\n",
              "        14.,  0.,  0.,  0.,  0.,  8., 13.,  8., 16.,  0.,  0.,  0.,  0.,\n",
              "         1.,  6., 15., 11.,  0.,  0.,  0.,  1.,  8., 13., 15.,  1.,  0.,\n",
              "         0.,  0.,  9., 16., 16.,  5.,  0.,  0.,  0.,  0.,  3., 13., 16.,\n",
              "        16., 11.,  5.,  0.,  0.,  0.,  0.,  3., 11., 16.,  9.,  0.]])"
            ]
          },
          "metadata": {},
          "execution_count": 14
        }
      ]
    },
    {
      "cell_type": "code",
      "source": [],
      "metadata": {
        "id": "QqSBqWqagcr9"
      },
      "execution_count": null,
      "outputs": []
    },
    {
      "cell_type": "code",
      "source": [
        "# km = KMeans(n_samples=1797,n_features=64,n_clusters=10, init='random',n_init=10,max_iter=300, tol=1e-04, random_state=0)\n",
        "# y_km = km.fit_predict(digits.data[0:3])\n",
        "X = digits.data"
      ],
      "metadata": {
        "id": "mDDTeb4Uf9jl"
      },
      "execution_count": 16,
      "outputs": []
    },
    {
      "cell_type": "code",
      "source": [
        "from sklearn.cluster import KMeans\n",
        "kmeans = KMeans(n_clusters=10, random_state=0)\n",
        "kmeans.fit(digits.data)\n",
        "print(kmeans.labels_)"
      ],
      "metadata": {
        "colab": {
          "base_uri": "https://localhost:8080/"
        },
        "id": "C_WS06TcWu59",
        "outputId": "02188a9e-4827-4842-eff4-e096e5523c56"
      },
      "execution_count": 17,
      "outputs": [
        {
          "output_type": "stream",
          "name": "stderr",
          "text": [
            "/usr/local/lib/python3.9/dist-packages/sklearn/cluster/_kmeans.py:870: FutureWarning: The default value of `n_init` will change from 10 to 'auto' in 1.4. Set the value of `n_init` explicitly to suppress the warning\n",
            "  warnings.warn(\n"
          ]
        },
        {
          "output_type": "stream",
          "name": "stdout",
          "text": [
            "[5 7 7 ... 7 3 3]\n"
          ]
        }
      ]
    },
    {
      "cell_type": "code",
      "source": [
        "fig, ax = plt.subplots(2, 5, figsize = (8,3)) #Create a figure and a set of␣subplots( 2 rows and 5 columns)\n",
        "centers = kmeans.cluster_centers_.reshape(10,8,8)\n",
        "#flattened image can't be viewed, re-transform/reshape/inverse transform it to␣original form to view matrix shaped image\n",
        "#reshape 10 rows of clusters (k_means.cluster_centers_ = 10,64) and 64 to 8 * 8␣matrix\n",
        "for axi, center in zip(ax.flat, centers): #ax.flat:flattening the image &␣plotting relevant centers\n",
        "  axi.set(xticks = [], yticks = [])\n",
        "  axi.imshow(center, interpolation='nearest',cmap = plt.cm.binary)\n",
        "#imshow(matplotlib method) to render the image in notebook"
      ],
      "metadata": {
        "colab": {
          "base_uri": "https://localhost:8080/",
          "height": 194
        },
        "id": "GVJFuAW_W0fl",
        "outputId": "bdc4a790-b9ef-4d7b-f333-15ab2cadae46"
      },
      "execution_count": 18,
      "outputs": [
        {
          "output_type": "display_data",
          "data": {
            "text/plain": [
              "<Figure size 576x216 with 10 Axes>"
            ],
            "image/png": "[encoded data removed]"
          },
          "metadata": {}
        }
      ]
    },
    {
      "cell_type": "code",
      "source": [
        "clusters=digits.target\n",
        "labels = np.zeros_like(clusters) # blank labels\n",
        "print(f\"The labels are : {labels}\")\n",
        "print(f\"\\nThe size of labels is : {labels.shape}\")\n",
        "print(\"The mask values are : \")\n",
        "for i in range(10):\n",
        "  mask = (clusters == i)\n",
        "#if a specific digit belongs to/equivalent a specific cluster then its True␣else False\n",
        "  print(mask)\n",
        "  labels[mask] = mode(digits.target[mask])[0]"
      ],
      "metadata": {
        "colab": {
          "base_uri": "https://localhost:8080/"
        },
        "id": "TwyvffbBW6ki",
        "outputId": "e412166f-c9f4-41e3-8a3c-ff41b4c1a04a"
      },
      "execution_count": 19,
      "outputs": [
        {
          "output_type": "stream",
          "name": "stdout",
          "text": [
            "The labels are : [0 0 0 ... 0 0 0]\n",
            "\n",
            "The size of labels is : (1797,)\n",
            "The mask values are : \n",
            "[ True False False ... False False False]\n",
            "[False  True False ... False False False]\n",
            "[False False  True ... False False False]\n",
            "[False False False ... False False False]\n",
            "[False False False ... False False False]\n",
            "[False False False ... False False False]\n",
            "[False False False ... False False False]\n",
            "[False False False ... False False False]\n",
            "[False False False ...  True False  True]\n",
            "[False False False ... False  True False]\n"
          ]
        },
        {
          "output_type": "stream",
          "name": "stderr",
          "text": [
            "<ipython-input-19-9dbf7b918b7a>:10: FutureWarning: Unlike other reduction functions (e.g. `skew`, `kurtosis`), the default behavior of `mode` typically preserves the axis it acts along. In SciPy 1.11.0, this behavior will change: the default value of `keepdims` will become False, the `axis` over which the statistic is taken will be eliminated, and the value None will no longer be accepted. Set `keepdims` to True or False to avoid this warning.\n",
            "  labels[mask] = mode(digits.target[mask])[0]\n"
          ]
        }
      ]
    },
    {
      "cell_type": "markdown",
      "source": [
        "4. Use the k-means algorithm in python to cluster the following 8 examples into 3 clusters: A1=(2,10), A2=(2,5), A3=(8,4), A4=(5,8), A5=(7,5), A6=(6,4), A7=(1,2), A8=(4,9). (a) Suppose that the centers of each cluster are A1, A4 and A7. Run the k-means algorithm for 3 epochs only. At the end of this epoch show:\n",
        "i. The new clusters (i.e. the examples belonging to each cluster)(mention the appro- priate attribute used to identify the clusters in sklearn)\n",
        "\n",
        "ii. The centers of the new clusters (mention the appropriate attribute used to identify the cluster centers in sklearn)"
      ],
      "metadata": {
        "id": "WRi9m23WXWk-"
      }
    },
    {
      "cell_type": "code",
      "source": [
        "import matplotlib.pyplot as plt\n",
        "import numpy as np\n",
        "from sklearn.cluster import KMeans\n",
        "\n",
        "X = np.array([[2,10],[2,5],[8,4],[5,8],[7,5],[6,4],[1,2],[4,9]])\n",
        "centroid = np.array([[2,10],[5,8],[1,2]])\n",
        "\n",
        "kmeans = KMeans(n_clusters=3, init=centroid, max_iter=1).fit(X)\n",
        "print(\"cluster center for 1st iteration:\\n\", kmeans.cluster_centers_)\n",
        "\n",
        "c1 = kmeans.cluster_centers_\n",
        "plt.scatter(X[:,0], X[:,1])\n",
        "plt.scatter(c1[:,0], c1[:,1])"
      ],
      "metadata": {
        "colab": {
          "base_uri": "https://localhost:8080/",
          "height": 523
        },
        "id": "mlPsGjN0Xc7T",
        "outputId": "41c568f4-b666-46df-a663-b5105cd14bc1"
      },
      "execution_count": 20,
      "outputs": [
        {
          "output_type": "stream",
          "name": "stdout",
          "text": [
            "cluster center for 1st iteration:\n",
            " [[ 2.  10. ]\n",
            " [ 6.   6. ]\n",
            " [ 1.5  3.5]]\n"
          ]
        },
        {
          "output_type": "stream",
          "name": "stderr",
          "text": [
            "/usr/local/lib/python3.9/dist-packages/sklearn/cluster/_kmeans.py:870: FutureWarning: The default value of `n_init` will change from 10 to 'auto' in 1.4. Set the value of `n_init` explicitly to suppress the warning\n",
            "  warnings.warn(\n",
            "/usr/local/lib/python3.9/dist-packages/sklearn/cluster/_kmeans.py:1362: RuntimeWarning: Explicit initial center position passed: performing only one init in KMeans instead of n_init=10.\n",
            "  super()._check_params_vs_input(X, default_n_init=10)\n"
          ]
        },
        {
          "output_type": "execute_result",
          "data": {
            "text/plain": [
              "<matplotlib.collections.PathCollection at 0x7fdeacc80040>"
            ]
          },
          "metadata": {},
          "execution_count": 20
        },
        {
          "output_type": "display_data",
          "data": {
            "text/plain": [
              "<Figure size 576x396 with 1 Axes>"
            ],
            "image/png": "[encoded data removed]"
          },
          "metadata": {}
        }
      ]
    },
    {
      "cell_type": "code",
      "source": [
        "#2nd iteration\n",
        "kmeans = KMeans(n_clusters=3, init=c1, max_iter=1).fit(X)\n",
        "print(\"\\ncluster center after 2nd iteration:\\n\", kmeans.cluster_centers_)\n",
        "\n",
        "c2 = kmeans.cluster_centers_\n",
        "plt.scatter(X[:,0], X[:,1])\n",
        "plt.scatter(c2[:,0], c2[:,1])"
      ],
      "metadata": {
        "colab": {
          "base_uri": "https://localhost:8080/",
          "height": 540
        },
        "id": "Vw9uE5RSXg2t",
        "outputId": "51f57e5f-7eac-445a-957a-8b3c69a65d1e"
      },
      "execution_count": 21,
      "outputs": [
        {
          "output_type": "stream",
          "name": "stdout",
          "text": [
            "\n",
            "cluster center after 2nd iteration:\n",
            " [[3.   9.5 ]\n",
            " [6.5  5.25]\n",
            " [1.5  3.5 ]]\n"
          ]
        },
        {
          "output_type": "stream",
          "name": "stderr",
          "text": [
            "/usr/local/lib/python3.9/dist-packages/sklearn/cluster/_kmeans.py:870: FutureWarning: The default value of `n_init` will change from 10 to 'auto' in 1.4. Set the value of `n_init` explicitly to suppress the warning\n",
            "  warnings.warn(\n",
            "/usr/local/lib/python3.9/dist-packages/sklearn/cluster/_kmeans.py:1362: RuntimeWarning: Explicit initial center position passed: performing only one init in KMeans instead of n_init=10.\n",
            "  super()._check_params_vs_input(X, default_n_init=10)\n"
          ]
        },
        {
          "output_type": "execute_result",
          "data": {
            "text/plain": [
              "<matplotlib.collections.PathCollection at 0x7fdea9a097c0>"
            ]
          },
          "metadata": {},
          "execution_count": 21
        },
        {
          "output_type": "display_data",
          "data": {
            "text/plain": [
              "<Figure size 576x396 with 1 Axes>"
            ],
            "image/png": "[encoded data removed]"
          },
          "metadata": {}
        }
      ]
    },
    {
      "cell_type": "code",
      "source": [
        "#3rd iteration\n",
        "kmeans = KMeans(n_clusters=3, init=c2, max_iter=1).fit(X)\n",
        "print(\"\\ncluster center after 3rd iteration:\\n\", kmeans.cluster_centers_)\n",
        "\n",
        "c3 = kmeans.cluster_centers_\n",
        "plt.scatter(X[:,0], X[:,1])\n",
        "plt.scatter(c3[:,0], c3[:,1])"
      ],
      "metadata": {
        "colab": {
          "base_uri": "https://localhost:8080/",
          "height": 540
        },
        "id": "W6jzcL4-Xm96",
        "outputId": "82a3ea1b-b194-480a-8172-3652bf8a9f01"
      },
      "execution_count": 22,
      "outputs": [
        {
          "output_type": "stream",
          "name": "stdout",
          "text": [
            "\n",
            "cluster center after 3rd iteration:\n",
            " [[3.66666667 9.        ]\n",
            " [7.         4.33333333]\n",
            " [1.5        3.5       ]]\n"
          ]
        },
        {
          "output_type": "stream",
          "name": "stderr",
          "text": [
            "/usr/local/lib/python3.9/dist-packages/sklearn/cluster/_kmeans.py:870: FutureWarning: The default value of `n_init` will change from 10 to 'auto' in 1.4. Set the value of `n_init` explicitly to suppress the warning\n",
            "  warnings.warn(\n",
            "/usr/local/lib/python3.9/dist-packages/sklearn/cluster/_kmeans.py:1362: RuntimeWarning: Explicit initial center position passed: performing only one init in KMeans instead of n_init=10.\n",
            "  super()._check_params_vs_input(X, default_n_init=10)\n"
          ]
        },
        {
          "output_type": "execute_result",
          "data": {
            "text/plain": [
              "<matplotlib.collections.PathCollection at 0x7fdea998faf0>"
            ]
          },
          "metadata": {},
          "execution_count": 22
        },
        {
          "output_type": "display_data",
          "data": {
            "text/plain": [
              "<Figure size 576x396 with 1 Axes>"
            ],
            "image/png": "[encoded data removed]"
          },
          "metadata": {}
        }
      ]
    }
  ]
}